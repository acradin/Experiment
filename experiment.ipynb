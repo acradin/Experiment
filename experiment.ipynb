{
 "cells": [
  {
   "cell_type": "markdown",
   "metadata": {},
   "source": [
    "Problem : 물건의 수가 주어진 다음 물건의 종류 별로 가로, 세로, 그리고 최대 높이가 주어지며 저장 공간의 크기가 주어진다. 이 때, 물건을 최적화된 방법으로 배치하는 방법을 출력하는 프로그램을 만드시오.\n",
    "            - 최적화에는 다음 조건을 따른다.\n",
    "                1. 물건의 양이 많을수록(퇴적의 크기가 클수록) 안쪽 공간에 배치해야 한다.\n",
    "                2. 중앙 통로는 비워 놓아야 한다.\n",
    "                3. 입구와 가까운 쪽은 지게차의 회전반경을 생각하여 조금 비워 놓아야 한다."
   ]
  },
  {
   "cell_type": "code",
   "execution_count": 9,
   "metadata": {},
   "outputs": [
    {
     "name": "stdout",
     "output_type": "stream",
     "text": [
      "저장 공간의 가로, 세로를 입력하세요.\n"
     ]
    }
   ],
   "source": [
    "print(\"저장 공간의 가로, 세로를 입력하세요.\")                   #저장 공간의 가로와 세로 입력 부분\n",
    "w = int(input(\"가로 : \"))\n",
    "l = int(input(\"세로 : \"))"
   ]
  },
  {
   "cell_type": "code",
   "execution_count": null,
   "metadata": {},
   "outputs": [],
   "source": [
    "storage = [[0 for j in range(l)] for i in range(w)]             #저장 공간 넓이의 2차원 배열 설정"
   ]
  },
  {
   "cell_type": "code",
   "execution_count": 8,
   "metadata": {},
   "outputs": [
    {
     "name": "stdout",
     "output_type": "stream",
     "text": [
      "1 번째 퇴적의 너비와 길이를 입력하세요.\n",
      "2 번째 퇴적의 너비와 길이를 입력하세요.\n"
     ]
    }
   ],
   "source": [
    "storage_width = [0] * 100                                       #최대 100개의 퇴적이 있다고 가정\n",
    "storage_length = [0] * 100\n",
    "\n",
    "num = int(input(\"num : \"))                                      #퇴적의 수를 입력 받는 부분\n",
    "for i in range(num):                                            #for문을 통해 각각의 퇴적의 길이와 너비를 배열에 저장함\n",
    "    print(i+1, \"번째 퇴적의 너비와 길이를 입력하세요.\")\n",
    "    storage_length[i] = int(input(\"길이 : \"))\n",
    "    storage_width[i] = int(input(\"너비 : \"))"
   ]
  },
  {
   "cell_type": "code",
   "execution_count": null,
   "metadata": {},
   "outputs": [],
   "source": []
  }
 ],
 "metadata": {
  "kernelspec": {
   "display_name": "Python 3",
   "language": "python",
   "name": "python3"
  },
  "language_info": {
   "codemirror_mode": {
    "name": "ipython",
    "version": 3
   },
   "file_extension": ".py",
   "mimetype": "text/x-python",
   "name": "python",
   "nbconvert_exporter": "python",
   "pygments_lexer": "ipython3",
   "version": "3.10.8"
  },
  "orig_nbformat": 4
 },
 "nbformat": 4,
 "nbformat_minor": 2
}
